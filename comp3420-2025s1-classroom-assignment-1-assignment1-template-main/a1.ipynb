{
 "cells": [
  {
   "cell_type": "markdown",
   "id": "c8903d8f-3f03-4397-b2ac-1807c2c86465",
   "metadata": {},
   "source": [
    "# Assignment 1: MNIST Deep Learning Classifier  \n",
    "\n",
    "**Name:** Yash Manish Maddiwar  \n",
    "**Student ID:** 48599875\n"
   ]
  },
  {
   "cell_type": "markdown",
   "id": "dec54137-3197-4b66-b1fc-ab1eee88c8f8",
   "metadata": {
    "jp-MarkdownHeadingCollapsed": true
   },
   "source": [
    "## Part 2 — MNIST classifier (uses `build_deep_nn` from a1.py)\n",
    "\n",
    "We derive the network shape from the last digit of my student ID (**…5**):\n",
    "\n",
    "- **Hidden layers:** 3  \n",
    "- **Hidden size (all hidden layers):** 75  \n",
    "- **Dropout (final hidden only):** 0.7\n"
   ]
  },
  {
   "cell_type": "markdown",
   "id": "97ac8bf8-5c5f-4931-8ce3-db5286f103cc",
   "metadata": {},
   "source": [
    "## Basic Import "
   ]
  },
  {
   "cell_type": "code",
   "execution_count": 6,
   "id": "bc253d8f-1280-4702-aed6-f1a9aeacefa6",
   "metadata": {},
   "outputs": [
    {
     "data": {
      "text/plain": [
       "device(type='cpu')"
      ]
     },
     "execution_count": 6,
     "metadata": {},
     "output_type": "execute_result"
    }
   ],
   "source": [
    "import random, numpy as np, torch, torch.nn as nn, torch.optim as optim\n",
    "from torchvision import datasets, transforms\n",
    "from torch.utils.data import DataLoader\n",
    "\n",
    "def set_seed(s=42):\n",
    "    random.seed(s); np.random.seed(s); torch.manual_seed(s)\n",
    "    torch.cuda.manual_seed_all(s); torch.backends.cudnn.deterministic=True; torch.backends.cudnn.benchmark=False\n",
    "set_seed(7)\n",
    "\n",
    "device = torch.device(\"cuda\" if torch.cuda.is_available() else \"cpu\")\n",
    "device\n"
   ]
  },
  {
   "cell_type": "markdown",
   "id": "6535bd1a-c521-42c7-9546-81abbfca6e30",
   "metadata": {},
   "source": [
    "## Architecture from Student ID\n",
    "\n",
    "Architecture rules from ID (ID ends with **5**):\n",
    "\n",
    "- **Hidden layers = 3** (rule: 2/5/8 → 3)  \n",
    "- **Hidden size = 75** (rule: 4/5/6/7 → 75)  \n",
    "- **Final hidden dropout = 0.7** (rule: 1/5/8/9 → 0.7)\n"
   ]
  },
  {
   "cell_type": "code",
   "execution_count": 9,
   "id": "e13b10e1-a567-4128-878c-9150d39c32b6",
   "metadata": {},
   "outputs": [
    {
     "data": {
      "text/plain": [
       "[(75, 0.0), (75, 0.0), (75, 0.7)]"
      ]
     },
     "execution_count": 9,
     "metadata": {},
     "output_type": "execute_result"
    }
   ],
   "source": [
    "last_digit = 5  # from 48599875\n",
    "\n",
    "# derived per spec\n",
    "num_hidden = 3\n",
    "hidden_size = 75\n",
    "final_dropout = 0.7\n",
    "\n",
    "# dropout=0 for all but the final hidden layer\n",
    "layer_options = [(hidden_size, 0.0), (hidden_size, 0.0), (hidden_size, final_dropout)]\n",
    "layer_options\n"
   ]
  },
  {
   "cell_type": "markdown",
   "id": "2570453e-1f32-4a8b-a0ba-e54851e67166",
   "metadata": {},
   "source": [
    "## Data Pipeline\n",
    "\n",
    "Download MNIST, normalize, and create training/test loaders.\n"
   ]
  },
  {
   "cell_type": "code",
   "execution_count": 12,
   "id": "dc23ea7d-1e1c-4631-925f-78249a5d8f78",
   "metadata": {},
   "outputs": [
    {
     "data": {
      "text/plain": [
       "(60000, 10000)"
      ]
     },
     "execution_count": 12,
     "metadata": {},
     "output_type": "execute_result"
    }
   ],
   "source": [
    "tx = transforms.Compose([\n",
    "    transforms.ToTensor(),\n",
    "    transforms.Normalize((0.1307,), (0.3081,))\n",
    "])\n",
    "\n",
    "train_set = datasets.MNIST(\"./data\", train=True,  download=True, transform=tx)\n",
    "test_set  = datasets.MNIST(\"./data\", train=False, download=True, transform=tx)\n",
    "\n",
    "train_loader = DataLoader(train_set, batch_size=128, shuffle=True,  num_workers=2, pin_memory=True)\n",
    "test_loader  = DataLoader(test_set,  batch_size=512, shuffle=False, num_workers=2, pin_memory=True)\n",
    "\n",
    "len(train_set), len(test_set)\n"
   ]
  },
  {
   "cell_type": "markdown",
   "id": "90ddce00-c7d5-4e40-8f3b-8f33e8c27df5",
   "metadata": {},
   "source": [
    "## Building The Model\n",
    "\n",
    "We construct the core classifier using `build_deep_nn`, and prepend a `Flatten` so the loop never reshapes inputs manually.\n"
   ]
  },
  {
   "cell_type": "code",
   "execution_count": 30,
   "id": "d7757104-7d02-48bc-bc39-01192780ca5f",
   "metadata": {},
   "outputs": [
    {
     "name": "stdout",
     "output_type": "stream",
     "text": [
      "Sequential(\n",
      "  (0): Flatten(start_dim=1, end_dim=-1)\n",
      "  (1): Sequential(\n",
      "    (0): Linear(in_features=784, out_features=75, bias=True)\n",
      "    (1): ReLU()\n",
      "    (2): Linear(in_features=75, out_features=75, bias=True)\n",
      "    (3): ReLU()\n",
      "    (4): Linear(in_features=75, out_features=75, bias=True)\n",
      "    (5): ReLU()\n",
      "    (6): Dropout(p=0.7, inplace=False)\n",
      "    (7): Linear(in_features=75, out_features=10, bias=True)\n",
      "  )\n",
      ")\n"
     ]
    }
   ],
   "source": [
    "from a1 import build_deep_nn  \n",
    "\n",
    "INPUT_SIZE, OUTPUT_SIZE = 28*28, 10\n",
    "core = build_deep_nn(INPUT_SIZE, layer_options, OUTPUT_SIZE)\n",
    "model = nn.Sequential(nn.Flatten(), core).to(device)\n",
    "print(model)\n"
   ]
  },
  {
   "cell_type": "markdown",
   "id": "6142c277-838f-4109-bac5-d6756c1bd181",
   "metadata": {},
   "source": [
    "## Training & Evaluation Helpers\n",
    "\n",
    "Utility functions: one-epoch training and full-set evaluation (loss and accuracy).\n"
   ]
  },
  {
   "cell_type": "code",
   "execution_count": 18,
   "id": "5806bfd6-31ae-478b-bfe6-a44f4e71a94b",
   "metadata": {},
   "outputs": [],
   "source": [
    "criterion = nn.CrossEntropyLoss()\n",
    "optimizer = optim.Adam(model.parameters(), lr=1e-3)\n",
    "from torch.optim.lr_scheduler import StepLR\n",
    "\n",
    "scheduler = StepLR(optimizer, step_size=5, gamma=0.5)\n",
    "\n",
    "def train_one_epoch(model, loader):\n",
    "    model.train()\n",
    "    total, batches = 0.0, 0\n",
    "    for x, y in loader:\n",
    "        x, y = x.to(device), y.to(device)\n",
    "        optimizer.zero_grad(set_to_none=True)\n",
    "        logits = model(x)\n",
    "        loss = criterion(logits, y)\n",
    "        loss.backward()\n",
    "        optimizer.step()\n",
    "        total += loss.item(); batches += 1\n",
    "    return total / max(batches, 1)\n",
    "\n",
    "@torch.no_grad()\n",
    "def evaluate(model, loader):\n",
    "    model.eval()\n",
    "    seen, correct, cum_loss = 0, 0, 0.0\n",
    "    for x, y in loader:\n",
    "        x, y = x.to(device), y.to(device)\n",
    "        logits = model(x)\n",
    "        cum_loss += criterion(logits, y).item() * x.size(0)\n",
    "        correct  += (logits.argmax(1) == y).sum().item()\n",
    "        seen     += x.size(0)\n",
    "    return cum_loss/seen, correct/seen\n"
   ]
  },
  {
   "cell_type": "markdown",
   "id": "93767ce1-236f-4178-af18-056480b365ec",
   "metadata": {},
   "source": [
    "## Training (15 epochs)\n",
    "\n",
    "Train for 15 epochs and log train/validation metrics each epoch.  \n",
    "Scheduler steps at the start of each epoch.\n"
   ]
  },
  {
   "cell_type": "code",
   "execution_count": 21,
   "id": "7e86236d-dcdf-47c5-a020-4bc74839f995",
   "metadata": {},
   "outputs": [
    {
     "name": "stderr",
     "output_type": "stream",
     "text": [
      "C:\\Users\\yashm\\anaconda3\\condaa\\Lib\\site-packages\\torch\\optim\\lr_scheduler.py:224: UserWarning: Detected call of `lr_scheduler.step()` before `optimizer.step()`. In PyTorch 1.1.0 and later, you should call them in the opposite order: `optimizer.step()` before `lr_scheduler.step()`.  Failure to do this will result in PyTorch skipping the first value of the learning rate schedule. See more details at https://pytorch.org/docs/stable/optim.html#how-to-adjust-learning-rate\n",
      "  warnings.warn(\n"
     ]
    },
    {
     "name": "stdout",
     "output_type": "stream",
     "text": [
      "epoch 01 | train_loss=0.6235 | val_loss=0.2141 | val_acc=93.50% | lr=0.00100\n",
      "epoch 02 | train_loss=0.2842 | val_loss=0.1359 | val_acc=95.92% | lr=0.00100\n",
      "epoch 03 | train_loss=0.2067 | val_loss=0.1259 | val_acc=96.35% | lr=0.00100\n",
      "epoch 04 | train_loss=0.1699 | val_loss=0.1157 | val_acc=96.67% | lr=0.00100\n",
      "epoch 05 | train_loss=0.1318 | val_loss=0.1020 | val_acc=97.17% | lr=0.00050\n",
      "epoch 06 | train_loss=0.1173 | val_loss=0.0959 | val_acc=97.36% | lr=0.00050\n",
      "epoch 07 | train_loss=0.1073 | val_loss=0.0975 | val_acc=97.49% | lr=0.00050\n",
      "epoch 08 | train_loss=0.0986 | val_loss=0.0956 | val_acc=97.50% | lr=0.00050\n",
      "epoch 09 | train_loss=0.0905 | val_loss=0.0965 | val_acc=97.44% | lr=0.00050\n",
      "epoch 10 | train_loss=0.0738 | val_loss=0.0931 | val_acc=97.72% | lr=0.00025\n",
      "epoch 11 | train_loss=0.0696 | val_loss=0.0966 | val_acc=97.67% | lr=0.00025\n",
      "epoch 12 | train_loss=0.0639 | val_loss=0.0930 | val_acc=97.73% | lr=0.00025\n",
      "epoch 13 | train_loss=0.0611 | val_loss=0.0983 | val_acc=97.58% | lr=0.00025\n",
      "epoch 14 | train_loss=0.0580 | val_loss=0.0989 | val_acc=97.74% | lr=0.00025\n",
      "epoch 15 | train_loss=0.0518 | val_loss=0.0982 | val_acc=97.79% | lr=0.00013\n"
     ]
    }
   ],
   "source": [
    "EPOCHS = 15\n",
    "history = {\"train_loss\": [], \"val_loss\": [], \"val_acc\": []}\n",
    "\n",
    "for epoch in range(1, EPOCHS+1):\n",
    "    scheduler.step()\n",
    "    tl = train_one_epoch(model, train_loader)\n",
    "    vl, va = evaluate(model, test_loader)\n",
    "    history[\"train_loss\"].append(tl)\n",
    "    history[\"val_loss\"].append(vl)\n",
    "    history[\"val_acc\"].append(va)\n",
    "    print(f\"epoch {epoch:02d} | train_loss={tl:.4f} | val_loss={vl:.4f} | val_acc={va*100:.2f}% | lr={scheduler.get_last_lr()[0]:.5f}\")\n"
   ]
  },
  {
   "cell_type": "markdown",
   "id": "fd7b7382-30a1-4924-bd65-feb58e9aafc9",
   "metadata": {},
   "source": [
    "## Final Test Accuracy\n",
    "\n",
    "Report the final accuracy on the test set as required.\n"
   ]
  },
  {
   "cell_type": "code",
   "execution_count": 24,
   "id": "80961256-e738-4645-8fe0-b8d3d1738c78",
   "metadata": {},
   "outputs": [
    {
     "name": "stdout",
     "output_type": "stream",
     "text": [
      "Final test accuracy: 97.79% (loss=0.0982)\n"
     ]
    }
   ],
   "source": [
    "final_loss, final_acc = evaluate(model, test_loader)\n",
    "print(f\"Final test accuracy: {final_acc*100:.2f}% (loss={final_loss:.4f})\")\n"
   ]
  },
  {
   "cell_type": "markdown",
   "id": "cdb6f574-c6ed-4175-817c-1d73cffef10c",
   "metadata": {},
   "source": [
    "## Training/Validation Loss Curve\n"
   ]
  },
  {
   "cell_type": "code",
   "execution_count": 27,
   "id": "1710bd60-ed3d-4e6e-8e37-7c92633d29e5",
   "metadata": {},
   "outputs": [
    {
     "data": {
      "image/png": "[encoded data removed]",
      "text/plain": [
       "<Figure size 600x400 with 1 Axes>"
      ]
     },
     "metadata": {},
     "output_type": "display_data"
    }
   ],
   "source": [
    "import matplotlib.pyplot as plt   \n",
    "\n",
    "plt.figure(figsize=(6,4))\n",
    "plt.plot(history[\"train_loss\"], marker=\"o\", label=\"train loss\")\n",
    "plt.plot(history[\"val_loss\"], marker=\"s\", label=\"val loss\")\n",
    "plt.xlabel(\"Epoch\")\n",
    "plt.ylabel(\"Loss\")\n",
    "plt.title(\"MNIST — Loss over 15 Epochs\")\n",
    "plt.legend()\n",
    "plt.grid(True)\n",
    "plt.show()\n",
    "\n"
   ]
  },
  {
   "cell_type": "markdown",
   "id": "aee1355b-265c-411b-a476-cfb45282bffe",
   "metadata": {},
   "source": [
    "## Conclusion\n",
    "\n",
    "In this notebook, we successfully trained a deep learning classifier on the MNIST dataset using the `build_deep_nn` function defined in **a1.py**.  \n",
    "The network architecture was derived from the last digit of my student ID (**5**), resulting in a model with **3 hidden layers**, each of size **75**, and a **dropout rate of 0.7** applied only to the final hidden layer.\n",
    "\n",
    "Over 15 training epochs, the model demonstrated consistent learning, with the training and validation loss curves showing steady improvement.  \n",
    "The final test accuracy confirms that the model can effectively recognize handwritten digits, fulfilling the requirements of Part 2 of the assignment.    \n",
    "Overall, the implementation meets the assignment objectives by combining theoretical design rules with practical model training and evaluation.\n"
   ]
  }
 ],
 "metadata": {
  "kernelspec": {
   "display_name": "Python [conda env:base] *",
   "language": "python",
   "name": "conda-base-py"
  },
  "language_info": {
   "codemirror_mode": {
    "name": "ipython",
    "version": 3
   },
   "file_extension": ".py",
   "mimetype": "text/x-python",
   "name": "python",
   "nbconvert_exporter": "python",
   "pygments_lexer": "ipython3",
   "version": "3.12.7"
  }
 },
 "nbformat": 4,
 "nbformat_minor": 5
}
